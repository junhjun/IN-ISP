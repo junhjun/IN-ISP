{
  "cells": [
    {
      "cell_type": "markdown",
      "metadata": {
        "id": "pWJObmbNcX18"
      },
      "source": [
        "# (3) YOLOv8 비디오 탐지"
      ]
    },
    {
      "cell_type": "markdown",
      "source": [
        "### 학습시킨 YOLOv8 모델을 활용해 비디오에 예측함"
      ],
      "metadata": {
        "id": "vATXp3ZDGo2U"
      }
    },
    {
      "cell_type": "markdown",
      "metadata": {
        "id": "NvT8z7O0vCth"
      },
      "source": [
        "---"
      ]
    },
    {
      "cell_type": "markdown",
      "metadata": {
        "id": "7ImIRDF4o7Xt"
      },
      "source": [
        "## Install YOLOv8, Roboflow"
      ]
    },
    {
      "cell_type": "markdown",
      "source": [
        "- YOLOv8, Roboflow 관련 라이브러리 설치"
      ],
      "metadata": {
        "id": "GwMtsHhkWlHV"
      }
    },
    {
      "cell_type": "code",
      "execution_count": null,
      "metadata": {
        "colab": {
          "base_uri": "https://localhost:8080/"
        },
        "id": "tyBMglLeoiAC",
        "outputId": "03d48379-72a2-4376-d94f-9539a598e146"
      },
      "outputs": [
        {
          "output_type": "stream",
          "name": "stderr",
          "text": [
            "Ultralytics YOLOv8.0.20 🚀 Python-3.10.12 torch-2.0.1+cu118 CUDA:0 (Tesla T4, 15102MiB)\n",
            "Setup complete ✅ (2 CPUs, 12.7 GB RAM, 26.3/78.2 GB disk)\n"
          ]
        }
      ],
      "source": [
        "!pip install ultralytics==8.0.20\n",
        "\n",
        "from IPython import display\n",
        "display.clear_output()\n",
        "\n",
        "import ultralytics\n",
        "ultralytics.checks()"
      ]
    },
    {
      "cell_type": "code",
      "execution_count": null,
      "metadata": {
        "id": "KWVg-X93olNL"
      },
      "outputs": [],
      "source": [
        "from ultralytics import YOLO\n",
        "from IPython.display import display, Image\n",
        "\n",
        "import os\n",
        "import glob"
      ]
    },
    {
      "cell_type": "code",
      "execution_count": null,
      "metadata": {
        "colab": {
          "base_uri": "https://localhost:8080/"
        },
        "id": "dcU1ioQ5pJ61",
        "outputId": "926f4301-802f-4dba-b51a-1ce27b98b505"
      },
      "outputs": [
        {
          "output_type": "stream",
          "name": "stdout",
          "text": [
            "/content\n"
          ]
        }
      ],
      "source": [
        "HOME = os.getcwd()\n",
        "print(HOME)"
      ]
    },
    {
      "cell_type": "markdown",
      "metadata": {
        "id": "YDaJPOa9sMal"
      },
      "source": [
        "## Predict"
      ]
    },
    {
      "cell_type": "markdown",
      "source": [
        "- (2) 코드에서 학습시킨 모델(best.pt)을 이용하여 객체 탐지\n",
        "\n",
        "  - model = best.pt 모델 경로\n",
        "\n",
        "  - conf = confidence 설정(0~1)\n",
        "  \n",
        "  - source = 테스트 동영상 경로"
      ],
      "metadata": {
        "id": "j_f_E4T6dr3T"
      }
    },
    {
      "cell_type": "code",
      "source": [
        "from google.colab import drive, files\n",
        "drive.mount('/content/drive')"
      ],
      "metadata": {
        "colab": {
          "base_uri": "https://localhost:8080/"
        },
        "id": "mqncEYYDFgn7",
        "outputId": "80d41d71-6b82-4ca1-c2a9-7526bacb00d4"
      },
      "execution_count": null,
      "outputs": [
        {
          "output_type": "stream",
          "name": "stdout",
          "text": [
            "Mounted at /content/drive\n"
          ]
        }
      ]
    },
    {
      "cell_type": "code",
      "source": [
        "# Predict\n",
        "%cd {HOME}\n",
        "\n",
        "!yolo task=detect mode=predict \\\n",
        "model=/content/drive/MyDrive/your_best.pt \\\n",
        "conf=0.60 \\\n",
        "source=/content/drive/MyDrive/your_video.mp4 save=True"
      ],
      "metadata": {
        "id": "NqqJvtItFofz"
      },
      "execution_count": null,
      "outputs": []
    },
    {
      "cell_type": "code",
      "source": [
        "# Save\n",
        "csv_file_path = '/content/runs/detect/predict/your_video.mp4'\n",
        "files.download(csv_file_path)"
      ],
      "metadata": {
        "colab": {
          "base_uri": "https://localhost:8080/",
          "height": 17
        },
        "id": "n1atuAErFrjP",
        "outputId": "a7f33987-8b4d-4437-9c5e-1d9b3625db45"
      },
      "execution_count": null,
      "outputs": [
        {
          "output_type": "display_data",
          "data": {
            "text/plain": [
              "<IPython.core.display.Javascript object>"
            ],
            "application/javascript": [
              "\n",
              "    async function download(id, filename, size) {\n",
              "      if (!google.colab.kernel.accessAllowed) {\n",
              "        return;\n",
              "      }\n",
              "      const div = document.createElement('div');\n",
              "      const label = document.createElement('label');\n",
              "      label.textContent = `Downloading \"${filename}\": `;\n",
              "      div.appendChild(label);\n",
              "      const progress = document.createElement('progress');\n",
              "      progress.max = size;\n",
              "      div.appendChild(progress);\n",
              "      document.body.appendChild(div);\n",
              "\n",
              "      const buffers = [];\n",
              "      let downloaded = 0;\n",
              "\n",
              "      const channel = await google.colab.kernel.comms.open(id);\n",
              "      // Send a message to notify the kernel that we're ready.\n",
              "      channel.send({})\n",
              "\n",
              "      for await (const message of channel.messages) {\n",
              "        // Send a message to notify the kernel that we're ready.\n",
              "        channel.send({})\n",
              "        if (message.buffers) {\n",
              "          for (const buffer of message.buffers) {\n",
              "            buffers.push(buffer);\n",
              "            downloaded += buffer.byteLength;\n",
              "            progress.value = downloaded;\n",
              "          }\n",
              "        }\n",
              "      }\n",
              "      const blob = new Blob(buffers, {type: 'application/binary'});\n",
              "      const a = document.createElement('a');\n",
              "      a.href = window.URL.createObjectURL(blob);\n",
              "      a.download = filename;\n",
              "      div.appendChild(a);\n",
              "      a.click();\n",
              "      div.remove();\n",
              "    }\n",
              "  "
            ]
          },
          "metadata": {}
        },
        {
          "output_type": "display_data",
          "data": {
            "text/plain": [
              "<IPython.core.display.Javascript object>"
            ],
            "application/javascript": [
              "download(\"download_c37a8888-bd1f-49db-98bc-4c9ee6bce1a8\", \"12\\u110e\\u1169_\\u1100\\u1167\\u11bc_\\u1111\\u1169\\u1110\\u1173\\u1112\\u1169\\u11af_\\u110b\\u1175\\u11bb\\u110b\\u1173\\u11b7.mp4\", 16163993)"
            ]
          },
          "metadata": {}
        }
      ]
    },
    {
      "cell_type": "markdown",
      "source": [
        "---"
      ],
      "metadata": {
        "id": "UT_KrMLnfRoM"
      }
    }
  ],
  "metadata": {
    "accelerator": "GPU",
    "colab": {
      "machine_shape": "hm",
      "provenance": []
    },
    "gpuClass": "standard",
    "kernelspec": {
      "display_name": "Python 3",
      "name": "python3"
    },
    "language_info": {
      "name": "python"
    }
  },
  "nbformat": 4,
  "nbformat_minor": 0
}