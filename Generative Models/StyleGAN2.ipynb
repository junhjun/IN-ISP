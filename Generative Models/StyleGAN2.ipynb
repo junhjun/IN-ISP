{
 "cells": [
  {
   "cell_type": "code",
   "execution_count": 1,
   "id": "abbfd28b",
   "metadata": {},
   "outputs": [
    {
     "name": "stdout",
     "output_type": "stream",
     "text": [
      "GPU 0: NVIDIA GeForce RTX 4090 (UUID: GPU-660c21bb-f22f-ddb3-55fc-e97a3965fa97)\n"
     ]
    }
   ],
   "source": [
    "!nvidia-smi -L"
   ]
  },
  {
   "cell_type": "code",
   "execution_count": 2,
   "id": "759fd4b0",
   "metadata": {},
   "outputs": [
    {
     "name": "stdout",
     "output_type": "stream",
     "text": [
      "nvcc: NVIDIA (R) Cuda compiler driver\n",
      "Copyright (c) 2005-2022 NVIDIA Corporation\n",
      "Built on Tue_May__3_19:00:59_Pacific_Daylight_Time_2022\n",
      "Cuda compilation tools, release 11.7, V11.7.64\n",
      "Build cuda_11.7.r11.7/compiler.31294372_0\n"
     ]
    }
   ],
   "source": [
    "!nvcc --version"
   ]
  },
  {
   "attachments": {},
   "cell_type": "markdown",
   "id": "e58fa82d",
   "metadata": {},
   "source": [
    "### Install Prerequisites"
   ]
  },
  {
   "cell_type": "code",
   "execution_count": 4,
   "id": "c5a3e4c8",
   "metadata": {},
   "outputs": [],
   "source": [
    "# !pip install torch==1.9.0+cu111 torchvision==0.10.0+cu111 torchaudio===0.9.0 -f https://download.pytorch.org/whl/cu111/torch_stable.html --user"
   ]
  },
  {
   "cell_type": "code",
   "execution_count": 5,
   "id": "494c8283",
   "metadata": {},
   "outputs": [
    {
     "data": {
      "text/plain": [
       "'2.0.0+cu117'"
      ]
     },
     "execution_count": 5,
     "metadata": {},
     "output_type": "execute_result"
    }
   ],
   "source": [
    "import torch\n",
    "\n",
    "torch.__version__"
   ]
  },
  {
   "cell_type": "code",
   "execution_count": 6,
   "id": "2e9d4416",
   "metadata": {},
   "outputs": [
    {
     "data": {
      "text/plain": [
       "1"
      ]
     },
     "execution_count": 6,
     "metadata": {},
     "output_type": "execute_result"
    }
   ],
   "source": [
    "torch.cuda.device_count()"
   ]
  },
  {
   "cell_type": "code",
   "execution_count": 7,
   "id": "5dff76f6",
   "metadata": {},
   "outputs": [],
   "source": [
    "import torchvision"
   ]
  },
  {
   "cell_type": "code",
   "execution_count": 8,
   "id": "aab91769",
   "metadata": {},
   "outputs": [
    {
     "name": "stdout",
     "output_type": "stream",
     "text": [
      "Requirement already satisfied: click in c:\\users\\user\\anaconda3\\lib\\site-packages (8.0.4)\n",
      "Requirement already satisfied: requests in c:\\users\\user\\anaconda3\\lib\\site-packages (2.28.1)\n",
      "Requirement already satisfied: tqdm in c:\\users\\user\\anaconda3\\lib\\site-packages (4.64.1)\n",
      "Collecting pyspng\n",
      "  Using cached pyspng-0.1.1-cp39-cp39-win_amd64.whl (125 kB)\n",
      "Collecting ninja\n",
      "  Using cached ninja-1.11.1-py2.py3-none-win_amd64.whl (313 kB)\n",
      "Collecting imageio-ffmpeg==0.4.3\n",
      "  Using cached imageio_ffmpeg-0.4.3-py3-none-win_amd64.whl (22.6 MB)\n",
      "Requirement already satisfied: colorama in c:\\users\\user\\anaconda3\\lib\\site-packages (from click) (0.4.5)\n",
      "Requirement already satisfied: charset-normalizer<3,>=2 in c:\\users\\user\\anaconda3\\lib\\site-packages (from requests) (2.0.4)\n",
      "Requirement already satisfied: urllib3<1.27,>=1.21.1 in c:\\users\\user\\anaconda3\\lib\\site-packages (from requests) (1.26.11)\n",
      "Requirement already satisfied: certifi>=2017.4.17 in c:\\users\\user\\anaconda3\\lib\\site-packages (from requests) (2022.9.14)\n",
      "Requirement already satisfied: idna<4,>=2.5 in c:\\users\\user\\anaconda3\\lib\\site-packages (from requests) (3.3)\n",
      "Requirement already satisfied: numpy in c:\\users\\user\\anaconda3\\lib\\site-packages (from pyspng) (1.21.5)\n",
      "Installing collected packages: ninja, pyspng, imageio-ffmpeg\n",
      "Successfully installed imageio-ffmpeg-0.4.3 ninja-1.11.1 pyspng-0.1.1\n"
     ]
    }
   ],
   "source": [
    "!pip install click requests tqdm pyspng ninja imageio-ffmpeg==0.4.3"
   ]
  },
  {
   "attachments": {},
   "cell_type": "markdown",
   "id": "a2c739b4",
   "metadata": {},
   "source": [
    "### Get Images"
   ]
  },
  {
   "cell_type": "code",
   "execution_count": 9,
   "id": "4aef40f6",
   "metadata": {},
   "outputs": [],
   "source": [
    "import os\n",
    "import zipfile\n",
    "from PIL import Image"
   ]
  },
  {
   "cell_type": "code",
   "execution_count": 10,
   "id": "26dfd5d8",
   "metadata": {},
   "outputs": [],
   "source": [
    "os.makedirs(\"stylegan2-ada-pytorch/datasets\", exist_ok=True)"
   ]
  },
  {
   "cell_type": "code",
   "execution_count": 18,
   "id": "74fdd582",
   "metadata": {},
   "outputs": [],
   "source": [
    "with zipfile.ZipFile('C:/Users/user/IN-ISP/Hyeongjun/data/crackO_dataset.zip', 'r') as zip_ref:\n",
    "    zip_ref.extractall('stylegan2-ada-pytorch/datasets')"
   ]
  },
  {
   "cell_type": "code",
   "execution_count": 21,
   "id": "2db05145",
   "metadata": {},
   "outputs": [
    {
     "name": "stdout",
     "output_type": "stream",
     "text": [
      "C:\\Users\\user\\IN-ISP\\Hyeongjun\\stylegan2-ada-pytorch\n"
     ]
    }
   ],
   "source": [
    "!cd stylegan2-ada-pytorch/"
   ]
  },
  {
   "attachments": {},
   "cell_type": "markdown",
   "id": "6cf68573",
   "metadata": {},
   "source": [
    "### Prepare Dataset"
   ]
  },
  {
   "cell_type": "code",
   "execution_count": 22,
   "id": "33a7b111",
   "metadata": {},
   "outputs": [],
   "source": [
    "os.makedirs(\"datasets/processed\", exist_ok=True)"
   ]
  },
  {
   "cell_type": "code",
   "execution_count": 23,
   "id": "4f3241a1",
   "metadata": {},
   "outputs": [],
   "source": [
    "source_dir = 'datasets/crackO_dataset/'\n",
    "dest_dir = 'datasets/processed/'\n",
    "size = (512, 512)\n",
    "\n",
    "for file in os.listdir(source_dir):\n",
    "    if file.endswith('.png'):\n",
    "        img = Image.open(os.path.join(source_dir, file)).convert('RGB')\n",
    "        img = img.resize(size, resample=Image.Resampling.LANCZOS)\n",
    "        img.save(os.path.join(dest_dir, file))"
   ]
  },
  {
   "cell_type": "code",
   "execution_count": 24,
   "id": "bf5d3831",
   "metadata": {},
   "outputs": [
    {
     "name": "stderr",
     "output_type": "stream",
     "text": [
      "\n",
      "  0%|          | 0/748 [00:00<?, ?it/s]\n",
      "  1%|1         | 10/748 [00:00<00:07, 96.90it/s]\n",
      "  3%|2         | 20/748 [00:00<00:07, 95.83it/s]\n",
      "  4%|4         | 31/748 [00:00<00:07, 99.83it/s]\n",
      "  6%|5         | 42/748 [00:00<00:06, 103.66it/s]\n",
      "  7%|7         | 54/748 [00:00<00:06, 104.74it/s]\n",
      "  9%|8         | 65/748 [00:00<00:06, 103.34it/s]\n",
      " 10%|#         | 76/748 [00:00<00:06, 101.86it/s]\n",
      " 12%|#1        | 87/748 [00:00<00:06, 101.22it/s]\n",
      " 13%|#3        | 98/748 [00:00<00:06, 102.97it/s]\n",
      " 15%|#4        | 109/748 [00:01<00:06, 102.28it/s]\n",
      " 16%|#6        | 120/748 [00:01<00:06, 100.08it/s]\n",
      " 18%|#7        | 131/748 [00:01<00:06, 100.26it/s]\n",
      " 19%|#8        | 142/748 [00:01<00:05, 101.09it/s]\n",
      " 20%|##        | 153/748 [00:01<00:05, 102.11it/s]\n",
      " 22%|##1       | 164/748 [00:01<00:05, 103.71it/s]\n",
      " 23%|##3       | 175/748 [00:01<00:05, 101.24it/s]\n",
      " 25%|##4       | 186/748 [00:01<00:05, 100.53it/s]\n",
      " 26%|##6       | 197/748 [00:01<00:05, 101.14it/s]\n",
      " 28%|##7       | 208/748 [00:02<00:05, 102.16it/s]\n",
      " 29%|##9       | 219/748 [00:02<00:05, 103.14it/s]\n",
      " 31%|###       | 230/748 [00:02<00:05, 103.35it/s]\n",
      " 32%|###2      | 241/748 [00:02<00:05, 100.60it/s]\n",
      " 34%|###3      | 252/748 [00:02<00:04, 99.30it/s] \n",
      " 35%|###5      | 263/748 [00:02<00:04, 99.71it/s]\n",
      " 37%|###6      | 274/748 [00:02<00:04, 101.41it/s]\n",
      " 38%|###8      | 285/748 [00:02<00:04, 103.21it/s]\n",
      " 40%|###9      | 296/748 [00:02<00:04, 102.47it/s]\n",
      " 41%|####1     | 307/748 [00:03<00:04, 101.76it/s]\n",
      " 43%|####2     | 318/748 [00:03<00:04, 101.74it/s]\n",
      " 44%|####3     | 329/748 [00:03<00:04, 103.74it/s]\n",
      " 45%|####5     | 340/748 [00:03<00:03, 105.04it/s]\n",
      " 47%|####7     | 352/748 [00:03<00:03, 106.56it/s]\n",
      " 49%|####8     | 363/748 [00:03<00:03, 104.21it/s]\n",
      " 50%|#####     | 374/748 [00:03<00:03, 103.71it/s]\n",
      " 51%|#####1    | 385/748 [00:03<00:03, 102.82it/s]\n",
      " 53%|#####2    | 396/748 [00:03<00:03, 104.51it/s]\n",
      " 54%|#####4    | 407/748 [00:03<00:03, 105.43it/s]\n",
      " 56%|#####6    | 419/748 [00:04<00:03, 107.07it/s]\n",
      " 57%|#####7    | 430/748 [00:04<00:03, 104.56it/s]\n",
      " 59%|#####8    | 441/748 [00:04<00:02, 104.85it/s]\n",
      " 60%|######    | 452/748 [00:04<00:02, 104.03it/s]\n",
      " 62%|######1   | 463/748 [00:04<00:02, 105.68it/s]\n",
      " 64%|######3   | 475/748 [00:04<00:02, 107.26it/s]\n",
      " 65%|######4   | 486/748 [00:04<00:02, 105.57it/s]\n",
      " 66%|######6   | 497/748 [00:04<00:02, 103.38it/s]\n",
      " 68%|######7   | 508/748 [00:04<00:02, 103.74it/s]\n",
      " 69%|######9   | 519/748 [00:05<00:02, 105.46it/s]\n",
      " 71%|#######   | 530/748 [00:05<00:02, 105.77it/s]\n",
      " 72%|#######2  | 541/748 [00:05<00:01, 106.94it/s]\n",
      " 74%|#######3  | 552/748 [00:05<00:01, 104.43it/s]\n",
      " 75%|#######5  | 563/748 [00:05<00:01, 102.42it/s]\n",
      " 77%|#######6  | 574/748 [00:05<00:01, 103.60it/s]\n",
      " 78%|#######8  | 585/748 [00:05<00:01, 104.79it/s]\n",
      " 80%|#######9  | 596/748 [00:05<00:01, 105.03it/s]\n",
      " 81%|########1 | 607/748 [00:05<00:01, 105.97it/s]\n",
      " 83%|########2 | 618/748 [00:05<00:01, 104.07it/s]\n",
      " 84%|########4 | 629/748 [00:06<00:01, 103.61it/s]\n",
      " 86%|########5 | 640/748 [00:06<00:01, 104.20it/s]\n",
      " 87%|########7 | 651/748 [00:06<00:00, 105.19it/s]\n",
      " 89%|########8 | 663/748 [00:06<00:00, 106.95it/s]\n",
      " 90%|######### | 675/748 [00:06<00:00, 108.02it/s]\n",
      " 92%|#########1| 686/748 [00:06<00:00, 106.33it/s]\n",
      " 93%|#########3| 697/748 [00:06<00:00, 105.03it/s]\n",
      " 95%|#########4| 709/748 [00:06<00:00, 106.80it/s]\n",
      " 96%|#########6| 721/748 [00:06<00:00, 108.05it/s]\n",
      " 98%|#########7| 732/748 [00:07<00:00, 104.98it/s]\n",
      " 99%|#########9| 743/748 [00:07<00:00, 101.19it/s]\n",
      "100%|##########| 748/748 [00:07<00:00, 103.49it/s]\n"
     ]
    }
   ],
   "source": [
    "!python dataset_tool.py --source=datasets/processed/ --dest=datasets/stylegan_dataset.zip"
   ]
  },
  {
   "cell_type": "code",
   "execution_count": 25,
   "id": "f9da157d",
   "metadata": {},
   "outputs": [],
   "source": [
    "os.makedirs(\"../MachineLearningForArtists\", exist_ok=True)\n",
    "os.makedirs(\"../MachineLearningForArtists/MyProject\", exist_ok=True)"
   ]
  },
  {
   "attachments": {},
   "cell_type": "markdown",
   "id": "3cf18095",
   "metadata": {},
   "source": [
    "### Train from Scratch"
   ]
  },
  {
   "cell_type": "code",
   "execution_count": 14,
   "id": "e8314c19",
   "metadata": {},
   "outputs": [
    {
     "name": "stdout",
     "output_type": "stream",
     "text": [
      "^C\n"
     ]
    }
   ],
   "source": [
    "!python train.py --outdir=../MachineLearningForArtists/MyProject --data=datasets/stylegan_dataset.zip --gpus=1 --augpipe=bg --gamma=10 --cfg=paper256 --mirror=1 --snap=10 --metrics=none"
   ]
  },
  {
   "cell_type": "code",
   "execution_count": 17,
   "id": "f4b9ce6f",
   "metadata": {},
   "outputs": [],
   "source": [
    "# pyspng 라이브러리는 PNG 이미지를 지원하므로, PNG로의 변환이 필요"
   ]
  },
  {
   "attachments": {},
   "cell_type": "markdown",
   "id": "e0d47a9f",
   "metadata": {},
   "source": [
    "### Resume Training"
   ]
  },
  {
   "attachments": {},
   "cell_type": "markdown",
   "id": "38282581",
   "metadata": {},
   "source": [
    "/MachineLearningForArtists/MyProject\n",
    "- reals.png : train data\n",
    "- fakesXXXX.png : generated images\n",
    "- network-snapshow-XXXX.pkl : model"
   ]
  },
  {
   "cell_type": "code",
   "execution_count": 18,
   "id": "29c06a62",
   "metadata": {},
   "outputs": [],
   "source": [
    "# pkl path\n",
    "pkl_file = \"../MachineLearningForArtists/MyProject/00007-stylegan_dataset-mirror-paper256-gamma10-bg/network-snapshot-001895.pkl\""
   ]
  },
  {
   "cell_type": "code",
   "execution_count": 27,
   "id": "d6532fcc",
   "metadata": {},
   "outputs": [
    {
     "name": "stdout",
     "output_type": "stream",
     "text": [
      "^C\n"
     ]
    }
   ],
   "source": [
    "# resume\n",
    "!python train.py --resume=$pkl_file --outdir=../MachineLearningForArtists/MyProject --data=./datasets/stylegan_dataset.zip --gpus=1 --cfg=paper256 --mirror=1 --snap=10 --metrics=none"
   ]
  },
  {
   "attachments": {},
   "cell_type": "markdown",
   "id": "8f8a4fbe",
   "metadata": {},
   "source": [
    "### Generate Images"
   ]
  },
  {
   "cell_type": "code",
   "execution_count": 19,
   "id": "e6834fb3",
   "metadata": {},
   "outputs": [
    {
     "name": "stdout",
     "output_type": "stream",
     "text": [
      "Loading networks from \"../MachineLearningForArtists/MyProject/00007-stylegan_dataset-mirror-paper256-gamma10-bg/network-snapshot-001895.pkl\"...\n",
      "Generating image for seed 0 (0/100) ...\n",
      "Generating image for seed 1 (1/100) ...\n",
      "Generating image for seed 2 (2/100) ...\n",
      "Generating image for seed 3 (3/100) ...\n",
      "Generating image for seed 4 (4/100) ...\n",
      "Generating image for seed 5 (5/100) ...\n",
      "Generating image for seed 6 (6/100) ...\n",
      "Generating image for seed 7 (7/100) ...\n",
      "Generating image for seed 8 (8/100) ...\n",
      "Generating image for seed 9 (9/100) ...\n",
      "Generating image for seed 10 (10/100) ...\n",
      "Generating image for seed 11 (11/100) ...\n",
      "Generating image for seed 12 (12/100) ...\n",
      "Generating image for seed 13 (13/100) ...\n",
      "Generating image for seed 14 (14/100) ...\n",
      "Generating image for seed 15 (15/100) ...\n",
      "Generating image for seed 16 (16/100) ...\n",
      "Generating image for seed 17 (17/100) ...\n",
      "Generating image for seed 18 (18/100) ...\n",
      "Generating image for seed 19 (19/100) ...\n",
      "Generating image for seed 20 (20/100) ...\n",
      "Generating image for seed 21 (21/100) ...\n",
      "Generating image for seed 22 (22/100) ...\n",
      "Generating image for seed 23 (23/100) ...\n",
      "Generating image for seed 24 (24/100) ...\n",
      "Generating image for seed 25 (25/100) ...\n",
      "Generating image for seed 26 (26/100) ...\n",
      "Generating image for seed 27 (27/100) ...\n",
      "Generating image for seed 28 (28/100) ...\n",
      "Generating image for seed 29 (29/100) ...\n",
      "Generating image for seed 30 (30/100) ...\n",
      "Generating image for seed 31 (31/100) ...\n",
      "Generating image for seed 32 (32/100) ...\n",
      "Generating image for seed 33 (33/100) ...\n",
      "Generating image for seed 34 (34/100) ...\n",
      "Generating image for seed 35 (35/100) ...\n",
      "Generating image for seed 36 (36/100) ...\n",
      "Generating image for seed 37 (37/100) ...\n",
      "Generating image for seed 38 (38/100) ...\n",
      "Generating image for seed 39 (39/100) ...\n",
      "Generating image for seed 40 (40/100) ...\n",
      "Generating image for seed 41 (41/100) ...\n",
      "Generating image for seed 42 (42/100) ...\n",
      "Generating image for seed 43 (43/100) ...\n",
      "Generating image for seed 44 (44/100) ...\n",
      "Generating image for seed 45 (45/100) ...\n",
      "Generating image for seed 46 (46/100) ...\n",
      "Generating image for seed 47 (47/100) ...\n",
      "Generating image for seed 48 (48/100) ...\n",
      "Generating image for seed 49 (49/100) ...\n",
      "Generating image for seed 50 (50/100) ...\n",
      "Generating image for seed 51 (51/100) ...\n",
      "Generating image for seed 52 (52/100) ...\n",
      "Generating image for seed 53 (53/100) ...\n",
      "Generating image for seed 54 (54/100) ...\n",
      "Generating image for seed 55 (55/100) ...\n",
      "Generating image for seed 56 (56/100) ...\n",
      "Generating image for seed 57 (57/100) ...\n",
      "Generating image for seed 58 (58/100) ...\n",
      "Generating image for seed 59 (59/100) ...\n",
      "Generating image for seed 60 (60/100) ...\n",
      "Generating image for seed 61 (61/100) ...\n",
      "Generating image for seed 62 (62/100) ...\n",
      "Generating image for seed 63 (63/100) ...\n",
      "Generating image for seed 64 (64/100) ...\n",
      "Generating image for seed 65 (65/100) ...\n",
      "Generating image for seed 66 (66/100) ...\n",
      "Generating image for seed 67 (67/100) ...\n",
      "Generating image for seed 68 (68/100) ...\n",
      "Generating image for seed 69 (69/100) ...\n",
      "Generating image for seed 70 (70/100) ...\n",
      "Generating image for seed 71 (71/100) ...\n",
      "Generating image for seed 72 (72/100) ...\n",
      "Generating image for seed 73 (73/100) ...\n",
      "Generating image for seed 74 (74/100) ...\n",
      "Generating image for seed 75 (75/100) ...\n",
      "Generating image for seed 76 (76/100) ...\n",
      "Generating image for seed 77 (77/100) ...\n",
      "Generating image for seed 78 (78/100) ...\n",
      "Generating image for seed 79 (79/100) ...\n",
      "Generating image for seed 80 (80/100) ...\n",
      "Generating image for seed 81 (81/100) ...\n",
      "Generating image for seed 82 (82/100) ...\n",
      "Generating image for seed 83 (83/100) ...\n",
      "Generating image for seed 84 (84/100) ...\n",
      "Generating image for seed 85 (85/100) ...\n",
      "Generating image for seed 86 (86/100) ...\n",
      "Generating image for seed 87 (87/100) ...\n",
      "Generating image for seed 88 (88/100) ...\n",
      "Generating image for seed 89 (89/100) ...\n",
      "Generating image for seed 90 (90/100) ...\n",
      "Generating image for seed 91 (91/100) ...\n",
      "Generating image for seed 92 (92/100) ...\n",
      "Generating image for seed 93 (93/100) ...\n",
      "Generating image for seed 94 (94/100) ...\n",
      "Generating image for seed 95 (95/100) ...\n",
      "Generating image for seed 96 (96/100) ...\n",
      "Generating image for seed 97 (97/100) ...\n",
      "Generating image for seed 98 (98/100) ...\n",
      "Generating image for seed 99 (99/100) ...\n",
      "Wall time: 13.8 s\n"
     ]
    }
   ],
   "source": [
    "%%time\n",
    "\n",
    "!python generate.py --outdir=../MachineLearningForArtists/MyProject/out/images/ --trunc=0.7 --seeds=0-99 --network=$pkl_file"
   ]
  },
  {
   "attachments": {},
   "cell_type": "markdown",
   "id": "9eb580d9",
   "metadata": {},
   "source": [
    "### References"
   ]
  },
  {
   "attachments": {},
   "cell_type": "markdown",
   "id": "11021bb8",
   "metadata": {},
   "source": [
    "- https://colab.research.google.com/github/dvschultz/stylegan2-ada-pytorch/blob/main/SG2_ADA_PyTorch.ipynb#scrollTo=mYdyfH0O8In_"
   ]
  }
 ],
 "metadata": {
  "kernelspec": {
   "display_name": "Python 3 (ipykernel)",
   "language": "python",
   "name": "python3"
  },
  "language_info": {
   "codemirror_mode": {
    "name": "ipython",
    "version": 3
   },
   "file_extension": ".py",
   "mimetype": "text/x-python",
   "name": "python",
   "nbconvert_exporter": "python",
   "pygments_lexer": "ipython3",
   "version": "3.9.13"
  },
  "toc": {
   "base_numbering": 1,
   "nav_menu": {},
   "number_sections": true,
   "sideBar": true,
   "skip_h1_title": false,
   "title_cell": "Table of Contents",
   "title_sidebar": "Contents",
   "toc_cell": false,
   "toc_position": {},
   "toc_section_display": true,
   "toc_window_display": false
  }
 },
 "nbformat": 4,
 "nbformat_minor": 5
}
