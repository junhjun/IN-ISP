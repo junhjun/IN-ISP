{
  "cells": [
    {
      "attachments": {},
      "cell_type": "markdown",
      "metadata": {
        "id": "jfp03mE0DxIj"
      },
      "source": [
        "- Stability AI\n",
        "- stable-diffusion-img2img\n",
        "- https://replicate.com/stability-ai/stable-diffusion-img2img/api"
      ]
    },
    {
      "cell_type": "code",
      "execution_count": null,
      "metadata": {
        "colab": {
          "base_uri": "https://localhost:8080/"
        },
        "id": "iSZJpSvNttJf",
        "outputId": "44b7b38e-60f2-4f71-e3d3-742d5f214c93"
      },
      "outputs": [
        {
          "name": "stdout",
          "output_type": "stream",
          "text": [
            "Looking in indexes: https://pypi.org/simple, https://us-python.pkg.dev/colab-wheels/public/simple/\n",
            "Collecting replicate\n",
            "  Downloading replicate-0.8.1.tar.gz (22 kB)\n",
            "  Installing build dependencies ... \u001b[?25l\u001b[?25hdone\n",
            "  Getting requirements to build wheel ... \u001b[?25l\u001b[?25hdone\n",
            "  Preparing metadata (pyproject.toml) ... \u001b[?25l\u001b[?25hdone\n",
            "Requirement already satisfied: packaging in /usr/local/lib/python3.10/dist-packages (from replicate) (23.1)\n",
            "Requirement already satisfied: pydantic>1 in /usr/local/lib/python3.10/dist-packages (from replicate) (1.10.7)\n",
            "Requirement already satisfied: requests>2 in /usr/local/lib/python3.10/dist-packages (from replicate) (2.27.1)\n",
            "Requirement already satisfied: typing-extensions>=4.2.0 in /usr/local/lib/python3.10/dist-packages (from pydantic>1->replicate) (4.5.0)\n",
            "Requirement already satisfied: urllib3<1.27,>=1.21.1 in /usr/local/lib/python3.10/dist-packages (from requests>2->replicate) (1.26.15)\n",
            "Requirement already satisfied: certifi>=2017.4.17 in /usr/local/lib/python3.10/dist-packages (from requests>2->replicate) (2022.12.7)\n",
            "Requirement already satisfied: charset-normalizer~=2.0.0 in /usr/local/lib/python3.10/dist-packages (from requests>2->replicate) (2.0.12)\n",
            "Requirement already satisfied: idna<4,>=2.5 in /usr/local/lib/python3.10/dist-packages (from requests>2->replicate) (3.4)\n",
            "Building wheels for collected packages: replicate\n",
            "  Building wheel for replicate (pyproject.toml) ... \u001b[?25l\u001b[?25hdone\n",
            "  Created wheel for replicate: filename=replicate-0.8.1-py3-none-any.whl size=21099 sha256=ee535127104ea819608cab265ccee398f47c10020a19d671af30a3b732b0f682\n",
            "  Stored in directory: /root/.cache/pip/wheels/7f/de/2f/7f55f2dcb401baa19b90823c42391b55b09a372f5751356b02\n",
            "Successfully built replicate\n",
            "Installing collected packages: replicate\n",
            "Successfully installed replicate-0.8.1\n"
          ]
        }
      ],
      "source": [
        "!pip install replicate"
      ]
    },
    {
      "cell_type": "code",
      "execution_count": null,
      "metadata": {
        "colab": {
          "base_uri": "https://localhost:8080/"
        },
        "id": "tk0dChgsunWW",
        "outputId": "74585edc-7d25-49a9-ff10-d4deda74593e"
      },
      "outputs": [
        {
          "name": "stdout",
          "output_type": "stream",
          "text": [
            "Mounted at /content/drive\n"
          ]
        }
      ],
      "source": [
        "from getpass import getpass\n",
        "import os\n",
        "import shutil\n",
        "import requests\n",
        "import replicate\n",
        "from google.colab import drive, files\n",
        "drive.mount(\"/content/drive\")"
      ]
    },
    {
      "attachments": {},
      "cell_type": "markdown",
      "metadata": {
        "id": "5JNooVFV3FR-"
      },
      "source": [
        "#### Prepare Dataset"
      ]
    },
    {
      "cell_type": "code",
      "execution_count": null,
      "metadata": {
        "id": "eejBiS0Vz8Mc"
      },
      "outputs": [],
      "source": [
        "os.makedirs(\"/content/origin_imgs\", exist_ok=True)\n",
        "os.makedirs(\"/content/gen_imgs\", exist_ok=True)"
      ]
    },
    {
      "cell_type": "code",
      "execution_count": null,
      "metadata": {
        "id": "kOPOwgle2sVI"
      },
      "outputs": [],
      "source": [
        "!unzip /content/drive/MyDrive/IN-ISP/roadcrack_300.zip -d /content/origin_imgs"
      ]
    },
    {
      "cell_type": "code",
      "execution_count": null,
      "metadata": {
        "id": "u8r57hlbA5np"
      },
      "outputs": [],
      "source": [
        "dataset_name = \"roadcrack_300.zip\"\n",
        "dataset_path = os.path.join(\"/content/origin_imgs\", os.path.splitext(dataset_name)[0])"
      ]
    },
    {
      "cell_type": "code",
      "execution_count": null,
      "metadata": {
        "colab": {
          "base_uri": "https://localhost:8080/"
        },
        "id": "jo2CAVco5kR0",
        "outputId": "f19e4548-2283-436d-f4ce-b264146e30d9"
      },
      "outputs": [
        {
          "data": {
            "text/plain": [
              "300"
            ]
          },
          "execution_count": 35,
          "metadata": {},
          "output_type": "execute_result"
        }
      ],
      "source": [
        "flist = os.listdir('/content/origin_imgs/roadcrack_300')\n",
        "flist = [file for file in flist if 'crop_' in file]\n",
        "flist = sorted(flist)\n",
        "len(flist)"
      ]
    },
    {
      "attachments": {},
      "cell_type": "markdown",
      "metadata": {
        "id": "6U2MuyxB3IA2"
      },
      "source": [
        "#### Get Model (Stable Diffusion - img2img)"
      ]
    },
    {
      "cell_type": "code",
      "execution_count": null,
      "metadata": {
        "colab": {
          "base_uri": "https://localhost:8080/"
        },
        "id": "rY-_anb4wgh2",
        "outputId": "a102420d-82b0-4adf-cbd6-eeb7ded904c1"
      },
      "outputs": [
        {
          "name": "stdout",
          "output_type": "stream",
          "text": [
            "Enter your Replicate API token: ··········\n"
          ]
        }
      ],
      "source": [
        "os.environ[\"REPLICATE_API_TOKEN\"] = getpass(\"Enter your Replicate API token: \")"
      ]
    },
    {
      "cell_type": "code",
      "execution_count": null,
      "metadata": {
        "id": "5OXTktnRwke-"
      },
      "outputs": [],
      "source": [
        "model = replicate.models.get(\"stability-ai/stable-diffusion-img2img\")\n",
        "version = model.versions.get(\"15a3689ee13b0d2616e98820eca31d4c3abcd36672df6afce5cb6feb1d66087d\")"
      ]
    },
    {
      "attachments": {},
      "cell_type": "markdown",
      "metadata": {
        "id": "7XP2QYRG3ZUL"
      },
      "source": [
        "#### Generate Images"
      ]
    },
    {
      "cell_type": "code",
      "execution_count": null,
      "metadata": {
        "colab": {
          "base_uri": "https://localhost:8080/"
        },
        "id": "B6Ae1-OZIRyf",
        "outputId": "9b85c0ae-54d0-476c-e422-fdd80f45f842"
      },
      "outputs": [
        {
          "data": {
            "text/plain": [
              "['crop_100.png',\n",
              " 'crop_101.png',\n",
              " 'crop_103.png',\n",
              " 'crop_107.png',\n",
              " 'crop_110.png',\n",
              " 'crop_112.png',\n",
              " 'crop_113.png',\n",
              " 'crop_114.png',\n",
              " 'crop_123.png',\n",
              " 'crop_125.png']"
            ]
          },
          "execution_count": 36,
          "metadata": {},
          "output_type": "execute_result"
        }
      ],
      "source": [
        "flist[:10]"
      ]
    },
    {
      "cell_type": "code",
      "execution_count": null,
      "metadata": {
        "colab": {
          "base_uri": "https://localhost:8080/"
        },
        "id": "AzPcA8zU4R5g",
        "outputId": "80af9d79-196e-463b-883c-9f46ee6fa76b"
      },
      "outputs": [
        {
          "name": "stdout",
          "output_type": "stream",
          "text": [
            "CPU times: user 2.12 s, sys: 191 ms, total: 2.32 s\n",
            "Wall time: 2min 27s\n"
          ]
        }
      ],
      "source": [
        "%%time\n",
        "\n",
        "for fname in flist[:10]:\n",
        "# for fname in flist:\n",
        "    inputs = {\n",
        "        'prompt': \"fine road cracks, different background\",\n",
        "        'image': open(os.path.join(dataset_path, fname), \"rb\"),\n",
        "        'prompt_strength': 0.13,\n",
        "        'num_outputs': 8,\n",
        "        'num_inference_steps': 30,\n",
        "        'guidance_scale': 11,\n",
        "        'scheduler': \"K_EULER_ANCESTRAL\",\n",
        "        # 'seed': -2,\n",
        "    }\n",
        "\n",
        "    output = version.predict(**inputs)\n",
        "\n",
        "    for i, url in enumerate(output):\n",
        "        response = requests.get(url)\n",
        "        with open(\"/content/gen_imgs/\" + f\"{os.path.splitext(fname)[0]}_gen_{i+1}.png\", \"wb\") as f:\n",
        "            f.write(response.content)"
      ]
    },
    {
      "attachments": {},
      "cell_type": "markdown",
      "metadata": {
        "id": "Tn1llt0W6Wrg"
      },
      "source": [
        "#### Save to Google Drive"
      ]
    },
    {
      "cell_type": "code",
      "execution_count": null,
      "metadata": {
        "id": "vueMqTKm7KLe"
      },
      "outputs": [],
      "source": [
        "gdrive_path = \"/content/drive/MyDrive/IN-ISP\"\n",
        "zip_fname = \"gen_imgs\""
      ]
    },
    {
      "cell_type": "code",
      "execution_count": null,
      "metadata": {
        "colab": {
          "base_uri": "https://localhost:8080/",
          "height": 36
        },
        "id": "F-Kd5UrDATQS",
        "outputId": "be5144da-82f1-4da8-f969-41a4ec673302"
      },
      "outputs": [
        {
          "data": {
            "application/vnd.google.colaboratory.intrinsic+json": {
              "type": "string"
            },
            "text/plain": [
              "'/content/drive/MyDrive/IN-ISP/gen_imgs.zip'"
            ]
          },
          "execution_count": 46,
          "metadata": {},
          "output_type": "execute_result"
        }
      ],
      "source": [
        "shutil.make_archive(os.path.join(gdrive_path, zip_fname), \"zip\", \"/content/gen_imgs\")"
      ]
    }
  ],
  "metadata": {
    "accelerator": "GPU",
    "colab": {
      "provenance": []
    },
    "gpuClass": "standard",
    "kernelspec": {
      "display_name": "Python 3",
      "name": "python3"
    },
    "language_info": {
      "name": "python"
    }
  },
  "nbformat": 4,
  "nbformat_minor": 0
}
