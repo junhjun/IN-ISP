{
  "cells": [
    {
      "attachments": {},
      "cell_type": "markdown",
      "metadata": {
        "id": "ZHfSjVmQxhUB"
      },
      "source": [
        "# 도로 크랙 이미지 분류\n",
        "- EfficientNet pre-trained model 사용\n",
        "- binary classification"
      ]
    },
    {
      "attachments": {},
      "cell_type": "markdown",
      "metadata": {
        "id": "4RGiBk7GLb-z"
      },
      "source": [
        "# 결과\n",
        "- 분류 실패\n",
        "- 데이터 증강 또는 더 나은 모델 필요"
      ]
    },
    {
      "attachments": {},
      "cell_type": "markdown",
      "metadata": {},
      "source": [
        "---"
      ]
    },
    {
      "cell_type": "code",
      "execution_count": null,
      "metadata": {
        "id": "taO26nreMeYb"
      },
      "outputs": [],
      "source": [
        "import pandas as pd\n",
        "import numpy as np\n",
        "import matplotlib.pyplot as plt\n",
        "import seaborn as sns\n",
        "from sklearn.metrics import confusion_matrix\n",
        "\n",
        "import tensorflow as tf\n",
        "from tensorflow.keras.preprocessing.image import ImageDataGenerator\n",
        "from tensorflow.keras.applications import EfficientNetB0\n",
        "from tensorflow.keras import layers\n",
        "from tensorflow.keras import Model\n",
        "from tensorflow.keras import callbacks\n",
        "from tensorflow.keras.optimizers import RMSprop"
      ]
    },
    {
      "attachments": {},
      "cell_type": "markdown",
      "metadata": {
        "id": "WdJTqQhkx7ZK"
      },
      "source": [
        "#### Preparing Dataset"
      ]
    },
    {
      "cell_type": "code",
      "execution_count": null,
      "metadata": {
        "colab": {
          "base_uri": "https://localhost:8080/"
        },
        "id": "--iBRx3jyb-2",
        "outputId": "e84c6f02-6901-4b6a-b9f3-31db7f5dd727"
      },
      "outputs": [
        {
          "name": "stdout",
          "output_type": "stream",
          "text": [
            "Mounted at /content/drive\n"
          ]
        }
      ],
      "source": [
        "from google.colab import drive\n",
        "drive.mount('/content/drive')"
      ]
    },
    {
      "cell_type": "code",
      "execution_count": null,
      "metadata": {
        "id": "qIL-Vc0hqXSl"
      },
      "outputs": [],
      "source": [
        "!unzip /content/drive/MyDrive/IN-ISP/RoadCrack.zip"
      ]
    },
    {
      "cell_type": "code",
      "execution_count": null,
      "metadata": {
        "id": "zSMVduKoMlfB"
      },
      "outputs": [],
      "source": [
        "train_dir = '/content/RoadCrack/train'\n",
        "valid_dir = '/content/RoadCrack/valid'\n",
        "test_dir = '/content/RoadCrack/test'"
      ]
    },
    {
      "cell_type": "code",
      "execution_count": null,
      "metadata": {
        "id": "H3_zFGMmL70q"
      },
      "outputs": [],
      "source": [
        "# Augmentation\n",
        "train_datagen = ImageDataGenerator(\n",
        "    rescale=1./255,\n",
        "    rotation_range=20,\n",
        "    width_shift_range=0.2,\n",
        "    height_shift_range=0.2,\n",
        "    shear_range=0.2,\n",
        "    zoom_range=0.2,\n",
        "    horizontal_flip=True,\n",
        "    fill_mode='nearest')\n",
        "# train_datagen = ImageDataGenerator(rescale = 1./255)\n",
        "\n",
        "valid_datagen = ImageDataGenerator(rescale = 1./255)\n",
        "\n",
        "test_datagen = ImageDataGenerator(rescale = 1./255)"
      ]
    },
    {
      "cell_type": "code",
      "execution_count": null,
      "metadata": {
        "colab": {
          "base_uri": "https://localhost:8080/"
        },
        "id": "aiUKNJyNM5ev",
        "outputId": "aa767548-678b-4fe0-f597-29786ea98c04"
      },
      "outputs": [
        {
          "name": "stdout",
          "output_type": "stream",
          "text": [
            "Found 896 images belonging to 2 classes.\n",
            "Found 300 images belonging to 2 classes.\n",
            "Found 300 images belonging to 2 classes.\n"
          ]
        }
      ],
      "source": [
        "train_generator = train_datagen.flow_from_directory(\n",
        "    train_dir,\n",
        "    target_size=(224, 224),\n",
        "    batch_size=30,\n",
        "    class_mode='binary')\n",
        "\n",
        "valid_generator = valid_datagen.flow_from_directory(\n",
        "    valid_dir,\n",
        "    target_size=(224, 224),\n",
        "    batch_size=30,\n",
        "    class_mode='binary')\n",
        "\n",
        "test_generator = test_datagen.flow_from_directory(\n",
        "    test_dir,\n",
        "    target_size=(224, 224),\n",
        "    batch_size=30,\n",
        "    class_mode='binary')"
      ]
    },
    {
      "attachments": {},
      "cell_type": "markdown",
      "metadata": {
        "id": "eFQ-xFYL5gX2"
      },
      "source": [
        "#### Model"
      ]
    },
    {
      "cell_type": "code",
      "execution_count": null,
      "metadata": {
        "colab": {
          "base_uri": "https://localhost:8080/"
        },
        "id": "IFC-Td89OwFn",
        "outputId": "b62a0dad-76ce-4e21-c4ac-06b76e9fb43b"
      },
      "outputs": [
        {
          "data": {
            "text/plain": [
              "(30, 224, 224, 3)"
            ]
          },
          "execution_count": 98,
          "metadata": {},
          "output_type": "execute_result"
        }
      ],
      "source": [
        "train_generator[0][0].shape"
      ]
    },
    {
      "cell_type": "code",
      "execution_count": null,
      "metadata": {
        "id": "h0oVX-ehN7xh"
      },
      "outputs": [],
      "source": [
        "# EfficientNet pretrained model\n",
        "pretrained_model = EfficientNetB0(input_shape=(224, 224, 3), include_top=False, weights='imagenet')"
      ]
    },
    {
      "cell_type": "code",
      "execution_count": null,
      "metadata": {
        "id": "sRhZUFMnN7tS"
      },
      "outputs": [],
      "source": [
        "# fully connected layer 추가\n",
        "x = pretrained_model.output\n",
        "x = layers.GlobalAveragePooling2D()(x)\n",
        "x = layers.Dense(128, activation='relu')(x)\n",
        "x = layers.Dropout(0.2)(x)\n",
        "predictions = layers.Dense(1, activation='sigmoid')(x)"
      ]
    },
    {
      "cell_type": "code",
      "execution_count": null,
      "metadata": {
        "id": "_umIU4YuN7oq"
      },
      "outputs": [],
      "source": [
        "model = Model(inputs = pretrained_model.input, outputs=predictions)"
      ]
    },
    {
      "attachments": {},
      "cell_type": "markdown",
      "metadata": {
        "id": "ktycNLdlN7Y6"
      },
      "source": [
        "#### Compile"
      ]
    },
    {
      "cell_type": "code",
      "execution_count": null,
      "metadata": {
        "id": "aA6bAhnpOcUR"
      },
      "outputs": [],
      "source": [
        "model.compile(\n",
        "    optimizer=RMSprop(learning_rate=0.0001), # adam\n",
        "    loss='binary_crossentropy',\n",
        "    metrics = ['accuracy'])"
      ]
    },
    {
      "cell_type": "code",
      "execution_count": null,
      "metadata": {
        "id": "B7CMLDGkO7BO"
      },
      "outputs": [],
      "source": [
        "model.summary()"
      ]
    },
    {
      "attachments": {},
      "cell_type": "markdown",
      "metadata": {
        "id": "G4lu0FZh5n59"
      },
      "source": [
        "#### Callback"
      ]
    },
    {
      "cell_type": "code",
      "execution_count": null,
      "metadata": {
        "id": "PweaDJyL8yu1"
      },
      "outputs": [],
      "source": [
        "ckpt_path = 'roadcrack.ckpt'\n",
        "\n",
        "ckpt_callback = callbacks.ModelCheckpoint(\n",
        "    filepath=ckpt_path,\n",
        "    monitor='val_loss',\n",
        "    save_weights_only=True,\n",
        "    save_best_only=True,\n",
        "    verbose=1)"
      ]
    },
    {
      "cell_type": "code",
      "execution_count": null,
      "metadata": {
        "id": "fZhEIOLU9wDk"
      },
      "outputs": [],
      "source": [
        "es_callback = callbacks.EarlyStopping(\n",
        "    monitor='val_loss',\n",
        "    patience=10,\n",
        "    verbose=1)"
      ]
    },
    {
      "attachments": {},
      "cell_type": "markdown",
      "metadata": {
        "id": "3RoT1zwT5j7v"
      },
      "source": [
        "#### Training"
      ]
    },
    {
      "cell_type": "code",
      "execution_count": null,
      "metadata": {
        "colab": {
          "base_uri": "https://localhost:8080/"
        },
        "id": "ReAElBDQPANV",
        "outputId": "67af740f-c7e3-47b1-82a5-8ccb891b8264"
      },
      "outputs": [
        {
          "name": "stdout",
          "output_type": "stream",
          "text": [
            "Epoch 1/30\n"
          ]
        },
        {
          "name": "stderr",
          "output_type": "stream",
          "text": [
            "/usr/local/lib/python3.9/dist-packages/tensorflow/python/data/ops/structured_function.py:256: UserWarning: Even though the `tf.config.experimental_run_functions_eagerly` option is set, this option does not apply to tf.data functions. To force eager execution of tf.data functions, please use `tf.data.experimental.enable_debug_mode()`.\n",
            "  warnings.warn(\n"
          ]
        },
        {
          "name": "stdout",
          "output_type": "stream",
          "text": [
            "30/30 [==============================] - ETA: 0s - loss: 0.5350 - accuracy: 0.7612\n",
            "Epoch 1: val_loss improved from inf to 0.69268, saving model to roadcrack.ckpt\n",
            "30/30 [==============================] - 52s 2s/step - loss: 0.5350 - accuracy: 0.7612 - val_loss: 0.6927 - val_accuracy: 0.5367\n",
            "Epoch 2/30\n",
            "30/30 [==============================] - ETA: 0s - loss: 0.3627 - accuracy: 0.8482\n",
            "Epoch 2: val_loss did not improve from 0.69268\n",
            "30/30 [==============================] - 50s 2s/step - loss: 0.3627 - accuracy: 0.8482 - val_loss: 0.7120 - val_accuracy: 0.5000\n",
            "Epoch 3/30\n",
            "30/30 [==============================] - ETA: 0s - loss: 0.2623 - accuracy: 0.8962\n",
            "Epoch 3: val_loss did not improve from 0.69268\n",
            "30/30 [==============================] - 50s 2s/step - loss: 0.2623 - accuracy: 0.8962 - val_loss: 0.7096 - val_accuracy: 0.5000\n",
            "Epoch 4/30\n",
            "30/30 [==============================] - ETA: 0s - loss: 0.1991 - accuracy: 0.9241\n",
            "Epoch 4: val_loss did not improve from 0.69268\n",
            "30/30 [==============================] - 50s 2s/step - loss: 0.1991 - accuracy: 0.9241 - val_loss: 0.7183 - val_accuracy: 0.5000\n",
            "Epoch 5/30\n",
            "30/30 [==============================] - ETA: 0s - loss: 0.1682 - accuracy: 0.9263\n",
            "Epoch 5: val_loss did not improve from 0.69268\n",
            "30/30 [==============================] - 50s 2s/step - loss: 0.1682 - accuracy: 0.9263 - val_loss: 0.7104 - val_accuracy: 0.5000\n",
            "Epoch 6/30\n",
            "30/30 [==============================] - ETA: 0s - loss: 0.1509 - accuracy: 0.9431\n",
            "Epoch 6: val_loss did not improve from 0.69268\n",
            "30/30 [==============================] - 50s 2s/step - loss: 0.1509 - accuracy: 0.9431 - val_loss: 0.7008 - val_accuracy: 0.4700\n",
            "Epoch 7/30\n",
            "30/30 [==============================] - ETA: 0s - loss: 0.1134 - accuracy: 0.9587\n",
            "Epoch 7: val_loss did not improve from 0.69268\n",
            "30/30 [==============================] - 51s 2s/step - loss: 0.1134 - accuracy: 0.9587 - val_loss: 0.7092 - val_accuracy: 0.4667\n",
            "Epoch 8/30\n",
            "30/30 [==============================] - ETA: 0s - loss: 0.1037 - accuracy: 0.9587\n",
            "Epoch 8: val_loss improved from 0.69268 to 0.69079, saving model to roadcrack.ckpt\n",
            "30/30 [==============================] - 51s 2s/step - loss: 0.1037 - accuracy: 0.9587 - val_loss: 0.6908 - val_accuracy: 0.4867\n",
            "Epoch 9/30\n",
            "30/30 [==============================] - ETA: 0s - loss: 0.1003 - accuracy: 0.9632\n",
            "Epoch 9: val_loss improved from 0.69079 to 0.69052, saving model to roadcrack.ckpt\n",
            "30/30 [==============================] - 51s 2s/step - loss: 0.1003 - accuracy: 0.9632 - val_loss: 0.6905 - val_accuracy: 0.4867\n",
            "Epoch 10/30\n",
            "30/30 [==============================] - ETA: 0s - loss: 0.0906 - accuracy: 0.9643\n",
            "Epoch 10: val_loss improved from 0.69052 to 0.65604, saving model to roadcrack.ckpt\n",
            "30/30 [==============================] - 51s 2s/step - loss: 0.0906 - accuracy: 0.9643 - val_loss: 0.6560 - val_accuracy: 0.6167\n",
            "Epoch 11/30\n",
            "30/30 [==============================] - ETA: 0s - loss: 0.0885 - accuracy: 0.9676\n",
            "Epoch 11: val_loss improved from 0.65604 to 0.63720, saving model to roadcrack.ckpt\n",
            "30/30 [==============================] - 51s 2s/step - loss: 0.0885 - accuracy: 0.9676 - val_loss: 0.6372 - val_accuracy: 0.6633\n",
            "Epoch 12/30\n",
            "30/30 [==============================] - ETA: 0s - loss: 0.0724 - accuracy: 0.9721\n",
            "Epoch 12: val_loss did not improve from 0.63720\n",
            "30/30 [==============================] - 51s 2s/step - loss: 0.0724 - accuracy: 0.9721 - val_loss: 0.6487 - val_accuracy: 0.6467\n",
            "Epoch 13/30\n",
            "30/30 [==============================] - ETA: 0s - loss: 0.0504 - accuracy: 0.9821\n",
            "Epoch 13: val_loss improved from 0.63720 to 0.62862, saving model to roadcrack.ckpt\n",
            "30/30 [==============================] - 52s 2s/step - loss: 0.0504 - accuracy: 0.9821 - val_loss: 0.6286 - val_accuracy: 0.6267\n",
            "Epoch 14/30\n",
            "30/30 [==============================] - ETA: 0s - loss: 0.0836 - accuracy: 0.9699\n",
            "Epoch 14: val_loss did not improve from 0.62862\n",
            "30/30 [==============================] - 51s 2s/step - loss: 0.0836 - accuracy: 0.9699 - val_loss: 0.6749 - val_accuracy: 0.5933\n",
            "Epoch 15/30\n",
            "30/30 [==============================] - ETA: 0s - loss: 0.0699 - accuracy: 0.9754\n",
            "Epoch 15: val_loss did not improve from 0.62862\n",
            "30/30 [==============================] - 51s 2s/step - loss: 0.0699 - accuracy: 0.9754 - val_loss: 0.6928 - val_accuracy: 0.6933\n",
            "Epoch 16/30\n",
            "30/30 [==============================] - ETA: 0s - loss: 0.0366 - accuracy: 0.9844\n",
            "Epoch 16: val_loss did not improve from 0.62862\n",
            "30/30 [==============================] - 51s 2s/step - loss: 0.0366 - accuracy: 0.9844 - val_loss: 0.7339 - val_accuracy: 0.5700\n",
            "Epoch 17/30\n",
            "30/30 [==============================] - ETA: 0s - loss: 0.0652 - accuracy: 0.9743\n",
            "Epoch 17: val_loss did not improve from 0.62862\n",
            "30/30 [==============================] - 51s 2s/step - loss: 0.0652 - accuracy: 0.9743 - val_loss: 0.7812 - val_accuracy: 0.5433\n",
            "Epoch 18/30\n",
            "30/30 [==============================] - ETA: 0s - loss: 0.0422 - accuracy: 0.9888\n",
            "Epoch 18: val_loss did not improve from 0.62862\n",
            "30/30 [==============================] - 51s 2s/step - loss: 0.0422 - accuracy: 0.9888 - val_loss: 0.7869 - val_accuracy: 0.6900\n",
            "Epoch 19/30\n",
            "30/30 [==============================] - ETA: 0s - loss: 0.0443 - accuracy: 0.9844\n",
            "Epoch 19: val_loss improved from 0.62862 to 0.62566, saving model to roadcrack.ckpt\n",
            "30/30 [==============================] - 52s 2s/step - loss: 0.0443 - accuracy: 0.9844 - val_loss: 0.6257 - val_accuracy: 0.6733\n",
            "Epoch 20/30\n",
            "30/30 [==============================] - ETA: 0s - loss: 0.0310 - accuracy: 0.9900\n",
            "Epoch 20: val_loss improved from 0.62566 to 0.61444, saving model to roadcrack.ckpt\n",
            "30/30 [==============================] - 52s 2s/step - loss: 0.0310 - accuracy: 0.9900 - val_loss: 0.6144 - val_accuracy: 0.8000\n",
            "Epoch 21/30\n",
            "30/30 [==============================] - ETA: 0s - loss: 0.0257 - accuracy: 0.9933\n",
            "Epoch 21: val_loss did not improve from 0.61444\n",
            "30/30 [==============================] - 51s 2s/step - loss: 0.0257 - accuracy: 0.9933 - val_loss: 0.7026 - val_accuracy: 0.6667\n",
            "Epoch 22/30\n",
            "30/30 [==============================] - ETA: 0s - loss: 0.0336 - accuracy: 0.9877\n",
            "Epoch 22: val_loss did not improve from 0.61444\n",
            "30/30 [==============================] - 51s 2s/step - loss: 0.0336 - accuracy: 0.9877 - val_loss: 1.1980 - val_accuracy: 0.5067\n",
            "Epoch 23/30\n",
            "30/30 [==============================] - ETA: 0s - loss: 0.0193 - accuracy: 0.9944\n",
            "Epoch 23: val_loss did not improve from 0.61444\n",
            "30/30 [==============================] - 51s 2s/step - loss: 0.0193 - accuracy: 0.9944 - val_loss: 1.2040 - val_accuracy: 0.5867\n",
            "Epoch 24/30\n",
            "30/30 [==============================] - ETA: 0s - loss: 0.0380 - accuracy: 0.9866\n",
            "Epoch 24: val_loss did not improve from 0.61444\n",
            "30/30 [==============================] - 51s 2s/step - loss: 0.0380 - accuracy: 0.9866 - val_loss: 0.7975 - val_accuracy: 0.6800\n",
            "Epoch 25/30\n",
            "30/30 [==============================] - ETA: 0s - loss: 0.0380 - accuracy: 0.9821\n",
            "Epoch 25: val_loss did not improve from 0.61444\n",
            "30/30 [==============================] - 51s 2s/step - loss: 0.0380 - accuracy: 0.9821 - val_loss: 0.7087 - val_accuracy: 0.7833\n",
            "Epoch 26/30\n",
            "30/30 [==============================] - ETA: 0s - loss: 0.0318 - accuracy: 0.9877\n",
            "Epoch 26: val_loss improved from 0.61444 to 0.49733, saving model to roadcrack.ckpt\n",
            "30/30 [==============================] - 52s 2s/step - loss: 0.0318 - accuracy: 0.9877 - val_loss: 0.4973 - val_accuracy: 0.8400\n",
            "Epoch 27/30\n",
            "30/30 [==============================] - ETA: 0s - loss: 0.0422 - accuracy: 0.9866\n",
            "Epoch 27: val_loss did not improve from 0.49733\n",
            "30/30 [==============================] - 51s 2s/step - loss: 0.0422 - accuracy: 0.9866 - val_loss: 1.2991 - val_accuracy: 0.5500\n",
            "Epoch 28/30\n",
            "30/30 [==============================] - ETA: 0s - loss: 0.0171 - accuracy: 0.9944\n",
            "Epoch 28: val_loss did not improve from 0.49733\n",
            "30/30 [==============================] - 51s 2s/step - loss: 0.0171 - accuracy: 0.9944 - val_loss: 1.7455 - val_accuracy: 0.5233\n",
            "Epoch 29/30\n",
            "30/30 [==============================] - ETA: 0s - loss: 0.0167 - accuracy: 0.9944\n",
            "Epoch 29: val_loss did not improve from 0.49733\n",
            "30/30 [==============================] - 51s 2s/step - loss: 0.0167 - accuracy: 0.9944 - val_loss: 1.0083 - val_accuracy: 0.6333\n",
            "Epoch 30/30\n",
            "30/30 [==============================] - ETA: 0s - loss: 0.0287 - accuracy: 0.9933\n",
            "Epoch 30: val_loss did not improve from 0.49733\n",
            "30/30 [==============================] - 51s 2s/step - loss: 0.0287 - accuracy: 0.9933 - val_loss: 1.0804 - val_accuracy: 0.6433\n",
            "CPU times: user 32min 32s, sys: 45.8 s, total: 33min 17s\n",
            "Wall time: 25min 31s\n"
          ]
        }
      ],
      "source": [
        "%%time\n",
        "\n",
        "EPOCHS = 30\n",
        "BATCH_SIZE = 30\n",
        "\n",
        "log = model.fit(\n",
        "    train_generator,\n",
        "    epochs=EPOCHS,\n",
        "    batch_size=BATCH_SIZE,\n",
        "    validation_data = valid_generator,\n",
        "    callbacks=[ckpt_callback, es_callback],\n",
        "    verbose=1)"
      ]
    },
    {
      "attachments": {},
      "cell_type": "markdown",
      "metadata": {
        "id": "R0YeQA945m92"
      },
      "source": [
        "#### Training Results"
      ]
    },
    {
      "cell_type": "code",
      "execution_count": null,
      "metadata": {
        "id": "VusWWDV9-Ys9"
      },
      "outputs": [],
      "source": [
        "def plot_history(history):\n",
        "    hist = pd.DataFrame(history.history)\n",
        "    hist['epoch'] = history.epoch\n",
        "\n",
        "    plt.figure(figsize=(16,8))\n",
        "    plt.subplot(1,2,1)\n",
        "    plt.xlabel('Epoch')\n",
        "    plt.ylabel('Loss')\n",
        "    plt.plot(hist['epoch'], hist['loss'],label='Train Loss')\n",
        "    plt.plot(hist['epoch'], hist['val_loss'],label = 'Val Loss')\n",
        "    plt.legend()\n",
        "\n",
        "    plt.subplot(1,2,2)\n",
        "    plt.xlabel('Epoch')\n",
        "    plt.ylabel('Accuracy')\n",
        "    plt.plot(hist['epoch'], hist['accuracy'],label='Train Accuracy')\n",
        "    plt.plot(hist['epoch'], hist['val_accuracy'],label = 'Val Accuracy')\n",
        "\n",
        "    plt.legend()\n",
        "    plt.show()"
      ]
    },
    {
      "cell_type": "code",
      "execution_count": null,
      "metadata": {
        "colab": {
          "base_uri": "https://localhost:8080/",
          "height": 354
        },
        "id": "1YdwKAXz-dpM",
        "outputId": "e79dfcf2-b302-43e3-aaa7-f7d817c3bf09"
      },
      "outputs": [
        {
          "data": {
            "image/png": "[encoded data removed]",
            "text/plain": [
              "<Figure size 1152x576 with 2 Axes>"
            ]
          },
          "metadata": {
            "needs_background": "light"
          },
          "output_type": "display_data"
        }
      ],
      "source": [
        "plot_history(log)"
      ]
    },
    {
      "cell_type": "code",
      "execution_count": null,
      "metadata": {
        "colab": {
          "base_uri": "https://localhost:8080/"
        },
        "id": "tk31wQJEAvAv",
        "outputId": "dd1b9add-7629-4393-bedc-00a8ab39f5c8"
      },
      "outputs": [
        {
          "data": {
            "text/plain": [
              "<tensorflow.python.checkpoint.checkpoint.CheckpointLoadStatus at 0x7f7d67539490>"
            ]
          },
          "execution_count": 109,
          "metadata": {},
          "output_type": "execute_result"
        }
      ],
      "source": [
        "# best parameter update\n",
        "model.load_weights(ckpt_path)"
      ]
    },
    {
      "attachments": {},
      "cell_type": "markdown",
      "metadata": {
        "id": "3yMnvPuQ5qJa"
      },
      "source": [
        "#### Evalutation"
      ]
    },
    {
      "cell_type": "code",
      "execution_count": null,
      "metadata": {
        "colab": {
          "base_uri": "https://localhost:8080/"
        },
        "id": "ocONdbCnP70u",
        "outputId": "5ecbd62e-1493-4449-d2fd-3b86f9927a67"
      },
      "outputs": [
        {
          "name": "stdout",
          "output_type": "stream",
          "text": [
            "30/30 [==============================] - 35s 1s/step - loss: 0.9845 - accuracy: 0.7545\n"
          ]
        }
      ],
      "source": [
        "train_loss, train_accuracy = model.evaluate(train_generator)"
      ]
    },
    {
      "cell_type": "code",
      "execution_count": null,
      "metadata": {
        "id": "ZnnrGkSTP5gc"
      },
      "outputs": [],
      "source": [
        "test_loss, test_accuracy = model.evaluate(test_generator)"
      ]
    },
    {
      "attachments": {},
      "cell_type": "markdown",
      "metadata": {
        "id": "4JZFrp705quy"
      },
      "source": [
        "#### Confusion Matrix"
      ]
    },
    {
      "cell_type": "code",
      "execution_count": null,
      "metadata": {
        "id": "batXKNU7QegN"
      },
      "outputs": [],
      "source": [
        "test_steps = test_generator.n // test_generator.batch_size\n",
        "y_pred = model.predict(test_generator, steps=test_steps)"
      ]
    },
    {
      "cell_type": "code",
      "execution_count": null,
      "metadata": {
        "id": "cEljyZFDQeZI"
      },
      "outputs": [],
      "source": [
        "# predict\n",
        "y_pred_binary = np.argmax(y_pred, axis=1)"
      ]
    },
    {
      "cell_type": "code",
      "execution_count": null,
      "metadata": {
        "id": "Uf3MQNqqQeSw"
      },
      "outputs": [],
      "source": [
        "# actual\n",
        "y_true = test_generator.classes"
      ]
    },
    {
      "cell_type": "code",
      "execution_count": null,
      "metadata": {
        "colab": {
          "base_uri": "https://localhost:8080/"
        },
        "id": "pwQeGQP5QeNx",
        "outputId": "b1978419-1022-4053-b050-bd877ea77c09"
      },
      "outputs": [
        {
          "data": {
            "text/plain": [
              "array([[150,   0],\n",
              "       [150,   0]])"
            ]
          },
          "execution_count": 115,
          "metadata": {},
          "output_type": "execute_result"
        }
      ],
      "source": [
        "cfm = confusion_matrix(y_true, y_pred_binary)"
      ]
    },
    {
      "cell_type": "code",
      "execution_count": null,
      "metadata": {
        "colab": {
          "base_uri": "https://localhost:8080/",
          "height": 949
        },
        "id": "2MbXwnPCQ2D_",
        "outputId": "80d0171b-2749-4604-bb07-7317a8a89774"
      },
      "outputs": [
        {
          "data": {
            "image/png": "[encoded data removed]",
            "text/plain": [
              "<Figure size 576x576 with 1 Axes>"
            ]
          },
          "metadata": {},
          "output_type": "display_data"
        },
        {
          "data": {
            "image/png": "[encoded data removed]",
            "text/plain": [
              "<Figure size 576x576 with 1 Axes>"
            ]
          },
          "metadata": {
            "needs_background": "light"
          },
          "output_type": "display_data"
        }
      ],
      "source": [
        "plt.figure(figsize=(8, 8))\n",
        "sns.heatmap(cfm, annot=True, cbar=False, fmt='d')\n",
        "plt.show()"
      ]
    },
    {
      "cell_type": "code",
      "execution_count": null,
      "metadata": {
        "id": "wUtrNkxJeHuN"
      },
      "outputs": [],
      "source": []
    }
  ],
  "metadata": {
    "accelerator": "GPU",
    "colab": {
      "machine_shape": "hm",
      "provenance": []
    },
    "gpuClass": "standard",
    "kernelspec": {
      "display_name": "Python 3",
      "name": "python3"
    },
    "language_info": {
      "name": "python"
    }
  },
  "nbformat": 4,
  "nbformat_minor": 0
}
